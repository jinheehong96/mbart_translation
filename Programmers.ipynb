{
  "nbformat": 4,
  "nbformat_minor": 0,
  "metadata": {
    "colab": {
      "provenance": [],
      "authorship_tag": "ABX9TyNKRgK/b+2BDqJYfZib6CLK",
      "include_colab_link": true
    },
    "kernelspec": {
      "name": "python3",
      "display_name": "Python 3"
    },
    "language_info": {
      "name": "python"
    }
  },
  "cells": [
    {
      "cell_type": "markdown",
      "metadata": {
        "id": "view-in-github",
        "colab_type": "text"
      },
      "source": [
        "<a href=\"https://colab.research.google.com/github/jinheehong96/test/blob/main/Programmers.ipynb\" target=\"_parent\"><img src=\"https://colab.research.google.com/assets/colab-badge.svg\" alt=\"Open In Colab\"/></a>"
      ]
    },
    {
      "cell_type": "code",
      "execution_count": null,
      "metadata": {
        "colab": {
          "base_uri": "https://localhost:8080/"
        },
        "id": "Qy8eiK_HIGsC",
        "outputId": "018f8a5d-6016-4b1d-c568-9d2d220cd474"
      },
      "outputs": [
        {
          "output_type": "stream",
          "name": "stdout",
          "text": [
            "5\n"
          ]
        }
      ],
      "source": [
        "n=2\n",
        "m=15\n",
        "array=[2,3]\n",
        "d=[10001]*16\n",
        "\n",
        "d[0]=0\n",
        "for i in range(2):\n",
        "  for j in range(array[i],16):\n",
        "    #print(j-array[i]) #2:0~13까지 돌면서\n",
        "    if d[j-array[i]] != 10001:\n",
        "      d[j]=min(d[j],d[j-array[i]]+1) #+1은 횟수를 더하는 것임\n",
        "      #print(d)\n",
        "if d[15]==10001:\n",
        "  print(-1)\n",
        "else:\n",
        "  print(d[15])"
      ]
    },
    {
      "cell_type": "code",
      "source": [],
      "metadata": {
        "id": "T-iL2eSxVE_L"
      },
      "execution_count": null,
      "outputs": []
    },
    {
      "cell_type": "code",
      "source": [
        "#1,2,3,4,5,6,7,8,9\n",
        "def binary_search(array, target, start, end):\n",
        "  while start <= end:\n",
        "    #mid=5, start=0, end=10\n",
        "    mid=(start+end)//2\n",
        "  if array[mid] == target:\n",
        "    return mid\n",
        "    #end=4, start=0\n",
        "  elif array[mid] > target:\n",
        "    end=mid-1\n",
        "    #start=6, end=10\n",
        "  else:\n",
        "    start=mid+1\n"
      ],
      "metadata": {
        "id": "X3A5vwatj27P"
      },
      "execution_count": null,
      "outputs": []
    },
    {
      "cell_type": "code",
      "source": [
        "#이진 트리\n",
        "li=[19,15,10,17]\n",
        "ans=6\n",
        "\n",
        "start,end=0,max(li)\n",
        "\n",
        "result=0\n",
        "while start<=end:\n",
        "  total=0\n",
        "  mid=(start+end)//2\n",
        "  for x in li:\n",
        "    if x>mid:\n",
        "      total+=x-mid\n",
        "\n",
        "  if total < 6:\n",
        "    end=mid-1\n",
        "  else:\n",
        "    result=mid\n",
        "    start=mid+1\n",
        "print(result)\n"
      ],
      "metadata": {
        "colab": {
          "base_uri": "https://localhost:8080/"
        },
        "id": "h9XXF6_TLiK5",
        "outputId": "40fba3e2-a082-427c-c3d3-a56516f9f330"
      },
      "execution_count": null,
      "outputs": [
        {
          "output_type": "stream",
          "name": "stdout",
          "text": [
            "10\n"
          ]
        }
      ]
    },
    {
      "cell_type": "markdown",
      "source": [
        "Kruskal Algorithm\n",
        "\n",
        "- 최소 신장 트리(MST), 크루스칼 알고리즘\n",
        ": 신장 트리에서 사용된 간선들의 가중치의 합이 최소인 트리\n",
        "\n",
        "- 크루스칼의 핵심: 간선을 거리가 짧은 순서대로 그래프에 포함시킨다\n",
        "\n",
        "방법: 모든 간선들을 거리를 기준으로 오름차순 정렬 함\n",
        "-> 최소를 선택함 -> cycle 발생하는 경우 채택하지 않음 \n",
        "\n"
      ],
      "metadata": {
        "id": "mQjfnHeDAFpu"
      }
    },
    {
      "cell_type": "code",
      "source": [
        "#섬연결하기 \n",
        "def solution(n, costs):\n",
        "  def find_parent(parent, n):\n",
        "    if parent[n] !=n:\n",
        "      parent[n] = find_parent(parent, parent[n])\n",
        "    return parent[n]\n",
        "  \n",
        "  def union(a,b):\n",
        "    a=find(a)\n",
        "    b=find(b)\n",
        "    if a==b:\n",
        "      return\n",
        "    if rank[a]>rank[b]:\n",
        "      parent[b]=a\n",
        "    else:\n",
        "      parent[a]=b\n",
        "      if rank[a]==rank[b]:\n",
        "        rank[b]+=1"
      ],
      "metadata": {
        "id": "fPNVAVrl_-tj"
      },
      "execution_count": null,
      "outputs": []
    },
    {
      "cell_type": "code",
      "source": [
        "def pibo(n):\n",
        "  if n>1:\n",
        "    return n*pibo(n-1)\n",
        "  else:\n",
        "    return 1\n",
        "\n",
        "pibo(int(input()))"
      ],
      "metadata": {
        "colab": {
          "base_uri": "https://localhost:8080/"
        },
        "id": "atpjVwg4fVeQ",
        "outputId": "7758d28a-9678-4efc-c858-9d0557a7d369"
      },
      "execution_count": null,
      "outputs": [
        {
          "name": "stdout",
          "output_type": "stream",
          "text": [
            "10\n"
          ]
        },
        {
          "output_type": "execute_result",
          "data": {
            "text/plain": [
              "3628800"
            ]
          },
          "metadata": {},
          "execution_count": 9
        }
      ]
    },
    {
      "cell_type": "code",
      "source": [
        "def pibo(n):\n",
        "  if n==0:\n",
        "    return 0\n",
        "  elif n==1:\n",
        "    return 1\n",
        "  return pibo(n-1)+pibo(n-2)\n",
        "\n",
        "pibo(10)"
      ],
      "metadata": {
        "colab": {
          "base_uri": "https://localhost:8080/"
        },
        "id": "gtMGc3POjS0V",
        "outputId": "a4fb1009-6361-4513-b41e-8ea336c1b2e1"
      },
      "execution_count": null,
      "outputs": [
        {
          "output_type": "execute_result",
          "data": {
            "text/plain": [
              "55"
            ]
          },
          "metadata": {},
          "execution_count": 10
        }
      ]
    },
    {
      "cell_type": "code",
      "source": [
        "li=[(55,185),(58,183),(88,186),(60,175),(46,155)]\n",
        "people=sorted(li, key=lambda x: (x[0],x[1]), reverse=True)\n",
        "print(people)\n",
        "\n",
        "ans=[]\n",
        "\n",
        "for i in range(len(li)):\n",
        "  count=0\n",
        "  for j in range(len(li)):\n",
        "    if li[i][0]< li[j][0] and li[i][1]<li[j][1]:\n",
        "      count+=1\n",
        "  ans.append(count+1)"
      ],
      "metadata": {
        "id": "sGoXRD5YkNyA"
      },
      "execution_count": null,
      "outputs": []
    },
    {
      "cell_type": "code",
      "source": [
        "#1: 666 2:1666 3: 2666 4:3666 5:4666 6:5666 7:6666 8:7666\n",
        "#9:8666 10:9666 11:16661\n",
        "\n",
        "#'i\n",
        "\n",
        "li=['','1','2','3','4','5','6','7','8','9']\n",
        "#li=['','1','2']\n",
        "\n",
        "dp=[]\n",
        "for i in li:\n",
        "  for j in li:\n",
        "    dp.append(j+'666'+i)\n",
        "print(dp[186])"
      ],
      "metadata": {
        "colab": {
          "base_uri": "https://localhost:8080/",
          "height": 191
        },
        "id": "Rq_3UFvY4Nx8",
        "outputId": "67e2d179-2b5d-48c5-9b83-6e487409368b"
      },
      "execution_count": null,
      "outputs": [
        {
          "output_type": "error",
          "ename": "IndexError",
          "evalue": "ignored",
          "traceback": [
            "\u001b[0;31m---------------------------------------------------------------------------\u001b[0m",
            "\u001b[0;31mIndexError\u001b[0m                                Traceback (most recent call last)",
            "\u001b[0;32m<ipython-input-45-530e536da295>\u001b[0m in \u001b[0;36m<module>\u001b[0;34m()\u001b[0m\n\u001b[1;32m     11\u001b[0m   \u001b[0;32mfor\u001b[0m \u001b[0mj\u001b[0m \u001b[0;32min\u001b[0m \u001b[0mli\u001b[0m\u001b[0;34m:\u001b[0m\u001b[0;34m\u001b[0m\u001b[0;34m\u001b[0m\u001b[0m\n\u001b[1;32m     12\u001b[0m     \u001b[0mdp\u001b[0m\u001b[0;34m.\u001b[0m\u001b[0mappend\u001b[0m\u001b[0;34m(\u001b[0m\u001b[0mj\u001b[0m\u001b[0;34m+\u001b[0m\u001b[0;34m'666'\u001b[0m\u001b[0;34m+\u001b[0m\u001b[0mi\u001b[0m\u001b[0;34m)\u001b[0m\u001b[0;34m\u001b[0m\u001b[0;34m\u001b[0m\u001b[0m\n\u001b[0;32m---> 13\u001b[0;31m \u001b[0mprint\u001b[0m\u001b[0;34m(\u001b[0m\u001b[0mdp\u001b[0m\u001b[0;34m[\u001b[0m\u001b[0;36m186\u001b[0m\u001b[0;34m]\u001b[0m\u001b[0;34m)\u001b[0m\u001b[0;34m\u001b[0m\u001b[0;34m\u001b[0m\u001b[0m\n\u001b[0m",
            "\u001b[0;31mIndexError\u001b[0m: list index out of range"
          ]
        }
      ]
    },
    {
      "cell_type": "code",
      "source": [
        "import sys\n",
        "from collections import Counter \n",
        "\n",
        "li=[1,3,8,-2,2]\n",
        "#[-2,1,2,3,8]\n",
        "\n",
        "def mean(li):\n",
        "  return sum(li)/len(li)\n",
        "\n",
        "def median(li):\n",
        "  li=sorted(li)\n",
        "  if len(li)//2==1:\n",
        "    mid=len(li)//2\n",
        "    return (li[mid]+li[mid-1])/2\n",
        "  else:\n",
        "    return li[(len(li)-1)//2]\n",
        "\n",
        "def most(li):\n",
        "  li=sorted(li)\n",
        "  li_c=Counter(li).most_common()\n",
        "  if len(li_c)>1:\n",
        "    if li_c[0][1]==li_c[1][1]:\n",
        "      return(li_c[1][0])\n",
        "    else:\n",
        "      return (li_c[0][0])\n",
        "\n",
        "  \n",
        "\n",
        "#print(most(li))\n",
        "\n",
        "def range(li):\n",
        "  return max(li)-min(li)\n",
        "\n",
        "n=int(input())\n",
        "li=[]\n",
        "for i in range(n):\n",
        "  li.append(int(input()))\n",
        "\n",
        "print(mean(li))\n",
        "print(median(li))\n",
        "print(most(li))\n",
        "print(range(li))"
      ],
      "metadata": {
        "colab": {
          "base_uri": "https://localhost:8080/"
        },
        "id": "6Uh0J-TSW_dV",
        "outputId": "7899989e-195c-4268-8be7-ea0059490ac3"
      },
      "execution_count": null,
      "outputs": [
        {
          "output_type": "stream",
          "name": "stdout",
          "text": [
            "1\n"
          ]
        }
      ]
    },
    {
      "cell_type": "code",
      "source": [
        "from collections import Counter \n",
        "\n",
        "li=[1,3,8,-2,2]\n",
        "li=[1,1,3,6,2]\n",
        "li=sorted(li)\n",
        "nums_s=Counter(li).most_common()\n",
        "if len(nums_s)>1:\n",
        "  if nums_s[0][1]==nums_s[1][1]:\n",
        "    print(nums_s[1][0])\n",
        "  else:\n",
        "    print(numms_s[0][0])"
      ],
      "metadata": {
        "colab": {
          "base_uri": "https://localhost:8080/"
        },
        "id": "JDRI-7ILYcj3",
        "outputId": "176cf79e-21f7-4bb3-dfe0-8c8dc471ab9d"
      },
      "execution_count": null,
      "outputs": [
        {
          "output_type": "stream",
          "name": "stdout",
          "text": [
            "[(1, 2), (2, 1), (3, 1), (6, 1)]\n"
          ]
        }
      ]
    },
    {
      "cell_type": "code",
      "source": [
        "li=list(map(int,list(input())))\n",
        "#print(li)\n",
        "li=sorted(li,reverse=True)\n",
        "li=[str(i) for i in li]\n",
        "print(''.join(li))"
      ],
      "metadata": {
        "colab": {
          "base_uri": "https://localhost:8080/"
        },
        "id": "CT0HBoy-hkOT",
        "outputId": "c6549b8a-4271-48c3-e914-65bdb5bf68cf"
      },
      "execution_count": null,
      "outputs": [
        {
          "output_type": "stream",
          "name": "stdout",
          "text": [
            "2564\n",
            "[2, 5, 6, 4]\n",
            "6542\n"
          ]
        }
      ]
    },
    {
      "cell_type": "code",
      "source": [
        "li=[(3,4),(1,1),(1,-1),(2,2),(3,3)]\n",
        "li=sorted(li, key=lambda x:[x[0],x[1]])\n",
        "print(li)\n",
        "\n",
        "import sys\n",
        "n=int(input())\n",
        "li=[]\n",
        "for i in range(n):\n",
        "  a=list(map(int, input().split()))\n",
        " # print(a)\n",
        "  li.append(a)\n",
        "print(li)"
      ],
      "metadata": {
        "colab": {
          "base_uri": "https://localhost:8080/"
        },
        "id": "tuJFvCF5i_1A",
        "outputId": "b76b0965-0894-4355-ed61-f7efb0e38045"
      },
      "execution_count": null,
      "outputs": [
        {
          "output_type": "stream",
          "name": "stdout",
          "text": [
            "[(1, -1), (1, 1), (2, 2), (3, 3), (3, 4)]\n",
            "3\n",
            "3 5\n",
            "3 6\n",
            "2 5\n",
            "[(3, 5), (3, 6), (2, 5)]\n"
          ]
        }
      ]
    },
    {
      "cell_type": "code",
      "source": [
        "li=[[3,4],[1,1],[1,-1],[2,2],[3,3]]\n",
        "li=sorted(li, key=lambda x:[x[0],x[1]])\n",
        "\n",
        "\n",
        "for i in range(5):\n",
        "  print(li[i][0], li[i][1])"
      ],
      "metadata": {
        "colab": {
          "base_uri": "https://localhost:8080/"
        },
        "id": "Rx49b1bZlp-x",
        "outputId": "d978cc86-412e-4945-aa80-6bb5a5462098"
      },
      "execution_count": null,
      "outputs": [
        {
          "output_type": "stream",
          "name": "stdout",
          "text": [
            "1 -1\n",
            "1 1\n",
            "2 2\n",
            "3 3\n",
            "3 4\n"
          ]
        }
      ]
    },
    {
      "cell_type": "code",
      "source": [
        "import sys \n",
        "\n",
        "\n",
        "n=int(input())\n",
        "li=['but','i','wont','hesitate','no','more','no','more','it','cannot','wait','im','yours']\n",
        "#li=[]\n",
        "#for i in range(n):\n",
        "#  li.append(input())\n",
        "\n",
        "li=list(set(li))\n",
        "li.sort()\n",
        "li.sort(key=len)\n",
        "for i in li:\n",
        "  print(i)\n",
        "#li1=[[word,len(word)] for word in li]\n",
        "\n",
        "#li1=sorted(li1, key=lambda x:[x[1],x[0]])\n",
        "\n",
        "#for ans in li1:\n",
        "#  print(ans[0])"
      ],
      "metadata": {
        "colab": {
          "base_uri": "https://localhost:8080/"
        },
        "id": "pezLa9m4oEW_",
        "outputId": "a895a593-a5eb-4d05-836a-8ea47732dc92"
      },
      "execution_count": null,
      "outputs": [
        {
          "output_type": "stream",
          "name": "stdout",
          "text": [
            "13\n",
            "i\n",
            "im\n",
            "it\n",
            "no\n",
            "but\n",
            "more\n",
            "wait\n",
            "wont\n",
            "yours\n",
            "cannot\n",
            "hesitate\n"
          ]
        }
      ]
    },
    {
      "cell_type": "code",
      "source": [
        "import sys\n",
        "n=int(input())\n",
        "\n",
        "li=[]\n",
        "for i in range(n):\n",
        "  (x,y)=input().split()\n",
        "  li.append([int(x),y])\n",
        "\n",
        "\n",
        "li=sorted(li, key=lambda x: x[0])\n",
        "for age,name in li:\n",
        "  print(age,name)\n"
      ],
      "metadata": {
        "colab": {
          "base_uri": "https://localhost:8080/"
        },
        "id": "BYauJQDUkiIz",
        "outputId": "cfa57ebf-b8d2-4a32-949f-40d7b6589adf"
      },
      "execution_count": null,
      "outputs": [
        {
          "output_type": "stream",
          "name": "stdout",
          "text": [
            "2\n",
            "13 jk\n",
            "23 jil\n",
            "13 jk\n",
            "23 jil\n"
          ]
        }
      ]
    },
    {
      "cell_type": "code",
      "source": [
        "#binary search\n",
        "\n",
        "a_n=int(input()) #5\n",
        "A=list(map(int,input().split(' '))) \n",
        "#[-10, 2,3,6,10]\n",
        "A.sort()\n",
        "b_n=int(input()) #8\n",
        "B=list(map(int,input().split(' '))) \n",
        "#B=[10,9,-5, 2, 3,4,5,-10] #10 9 -5 2 3 4 5 -10\n",
        "\n",
        "\n",
        "\n",
        "def binary(b):\n",
        "  start=0\n",
        "  end=a_n-1\n",
        "  while start <=end:\n",
        "    mid=(start+end)//2\n",
        "    if b == A[mid]:\n",
        "      return 1\n",
        "    elif b < A[mid]:\n",
        "      end=mid-1\n",
        "    elif b > A[mid]:\n",
        "      start=mid+1\n",
        "  return 0\n",
        "\n",
        "for b in B:\n",
        "  print(binary(b),end=' ')\n",
        "\n",
        "##시간복잡도를 줄여주는 방법(dictionary key)\n",
        "dict1={B[i]:0 for i in range(len(B))}\n",
        "for i in range(a_n):\n",
        "  if A[i] in dict1.keys():\n",
        "    dict1[A[i]]+=1"
      ],
      "metadata": {
        "colab": {
          "base_uri": "https://localhost:8080/"
        },
        "id": "ihLg_bCze4xI",
        "outputId": "44d5d64c-074e-4637-f1d6-e87d0ce650d3"
      },
      "execution_count": null,
      "outputs": [
        {
          "output_type": "stream",
          "name": "stdout",
          "text": [
            "5\n",
            "-10 2 3 6 10\n",
            "8\n",
            "10 9 -5 2 3 4 5 -10\n",
            "1 0 0 1 1 0 0 1 "
          ]
        }
      ]
    },
    {
      "cell_type": "code",
      "source": [
        "\"\"\"\n",
        "A_N=int(input())\n",
        "A=[]\n",
        "for i in range(A_N):\n",
        "  A.append(input())\n",
        "B_N=int(input())\n",
        "B=[]\n",
        "for i in range(B_N):\n",
        "  B.append(input())\n",
        "\"\"\"\n",
        "A=['baekjoononlinejudge','startlink','codeplus','sundaycoding','codingsh']\n",
        "B=['baekjoon','codeplus','codeminus','startlink','starlink','sundaycoding','codingsh','codinghs','sondaycoding','startrink','icerink']\n",
        "\n",
        "dict1={a:0 for a in A}\n",
        "for b in B:\n",
        "  if b in dict1.keys():\n",
        "    dict1[b]+=1\n",
        "print(sum(dict1.values()))\n",
        "\n",
        "print(len(list(set(A)&set(B))))\n",
        "\n",
        "import sys\n",
        "input = sys.stdin.readline\n",
        "n,m=map(int, input().split())\n",
        "cnt=0\n",
        "\n",
        "S={input().strip() for _ in range(n)}\n",
        "\n",
        "for j in range(m):\n",
        "  if input().strip() in S:cnt+=1\n",
        "print(S)\n",
        "print(cnt)\n"
      ],
      "metadata": {
        "colab": {
          "base_uri": "https://localhost:8080/",
          "height": 257
        },
        "id": "VWvbOffizIhd",
        "outputId": "5a5055c3-c4f8-4f5c-d361-04b7616088b6"
      },
      "execution_count": null,
      "outputs": [
        {
          "output_type": "stream",
          "name": "stdout",
          "text": [
            "4\n",
            "4\n"
          ]
        },
        {
          "output_type": "error",
          "ename": "ValueError",
          "evalue": "ignored",
          "traceback": [
            "\u001b[0;31m---------------------------------------------------------------------------\u001b[0m",
            "\u001b[0;31mValueError\u001b[0m                                Traceback (most recent call last)",
            "\u001b[0;32m<ipython-input-3-abc2625f6f2a>\u001b[0m in \u001b[0;36m<module>\u001b[0;34m()\u001b[0m\n\u001b[1;32m     22\u001b[0m \u001b[0;32mimport\u001b[0m \u001b[0msys\u001b[0m\u001b[0;34m\u001b[0m\u001b[0;34m\u001b[0m\u001b[0m\n\u001b[1;32m     23\u001b[0m \u001b[0minput\u001b[0m \u001b[0;34m=\u001b[0m \u001b[0msys\u001b[0m\u001b[0;34m.\u001b[0m\u001b[0mstdin\u001b[0m\u001b[0;34m.\u001b[0m\u001b[0mreadline\u001b[0m\u001b[0;34m\u001b[0m\u001b[0;34m\u001b[0m\u001b[0m\n\u001b[0;32m---> 24\u001b[0;31m \u001b[0mn\u001b[0m\u001b[0;34m,\u001b[0m\u001b[0mm\u001b[0m\u001b[0;34m=\u001b[0m\u001b[0mmap\u001b[0m\u001b[0;34m(\u001b[0m\u001b[0mint\u001b[0m\u001b[0;34m,\u001b[0m \u001b[0minput\u001b[0m\u001b[0;34m(\u001b[0m\u001b[0;34m)\u001b[0m\u001b[0;34m.\u001b[0m\u001b[0msplit\u001b[0m\u001b[0;34m(\u001b[0m\u001b[0;34m)\u001b[0m\u001b[0;34m)\u001b[0m\u001b[0;34m\u001b[0m\u001b[0;34m\u001b[0m\u001b[0m\n\u001b[0m\u001b[1;32m     25\u001b[0m \u001b[0mcnt\u001b[0m\u001b[0;34m=\u001b[0m\u001b[0;36m0\u001b[0m\u001b[0;34m\u001b[0m\u001b[0;34m\u001b[0m\u001b[0m\n\u001b[1;32m     26\u001b[0m \u001b[0;34m\u001b[0m\u001b[0m\n",
            "\u001b[0;31mValueError\u001b[0m: not enough values to unpack (expected 2, got 0)"
          ]
        }
      ]
    },
    {
      "cell_type": "code",
      "source": [
        "import sys\n",
        "\n",
        "#딕셔너리의 해시값에 대한 시간복잡도는 O(N)=1이다\n",
        "n,m=map(int, input().split())\n",
        "cnt=0\n",
        "\n",
        "S={input().strip() for _ in range(n)}\n",
        "print(S)\n",
        "for j in range(m):\n",
        "  if input().strip() in S:cnt+=1\n",
        "print(S)\n",
        "print(cnt)"
      ],
      "metadata": {
        "colab": {
          "base_uri": "https://localhost:8080/"
        },
        "id": "Pg6I2NmZ3pHJ",
        "outputId": "a966f733-1528-4eff-eed5-9809c2a7d4a1"
      },
      "execution_count": null,
      "outputs": [
        {
          "output_type": "stream",
          "name": "stdout",
          "text": [
            "3 5 \n",
            "a\n",
            "b\n",
            "c\n",
            "{'b', 'a', 'c'}\n",
            "a\n",
            "b\n",
            "c\n",
            "d\n",
            "e\n",
            "{'b', 'a', 'c'}\n",
            "3\n"
          ]
        }
      ]
    },
    {
      "cell_type": "code",
      "source": [
        "import sys\n",
        "n,m=map(int, input().split())\n",
        "\n",
        "A=set(input().split())\n",
        "B=set(input().split())\n",
        "\n",
        "print(A&B)\n",
        "cnt=n+m-len(A&B)\n",
        "print(cnt)\n"
      ],
      "metadata": {
        "colab": {
          "base_uri": "https://localhost:8080/"
        },
        "id": "ot8XX23s5aaK",
        "outputId": "d6a251f0-1621-4313-d0ac-9968d5d0171d"
      },
      "execution_count": null,
      "outputs": [
        {
          "output_type": "stream",
          "name": "stdout",
          "text": [
            "3 5 \n",
            "1 2 4\n",
            "2 3 4 5 6\n",
            "{' ', '2', '4'}\n",
            "5\n"
          ]
        }
      ]
    },
    {
      "cell_type": "code",
      "source": [
        "A_N=int(input())\n",
        "A=list(map(int,input().split()))\n",
        "B_N=int(input())\n",
        "\n",
        "B={b:0 for b in map(int,input().split())}\n",
        "for a in A:\n",
        "  if a in B.keys(): B[a]+=1\n",
        "\n",
        "for b in B.values():\n",
        "  print(b, end=' ')\n"
      ],
      "metadata": {
        "colab": {
          "base_uri": "https://localhost:8080/"
        },
        "id": "zafjOAdC9vXq",
        "outputId": "506f23e4-a14e-44a0-e170-1079658af076"
      },
      "execution_count": null,
      "outputs": [
        {
          "output_type": "stream",
          "name": "stdout",
          "text": [
            "10\n",
            "6 3 2 10 10 10 -10 -10 7 3\n",
            "8\n",
            "10 9 -5 2 3 4 5 -10\n",
            "3 0 0 1 2 0 0 2 "
          ]
        }
      ]
    },
    {
      "cell_type": "code",
      "source": [
        "import sys\n",
        "cards=[6,3,2,10,10,10,-10,-10,7,3]\n",
        "candidate=[10,9,-5,2,3,4,5,-10]\n",
        "\n",
        "count={}\n",
        "for card in cards:\n",
        "  if card in count:\n",
        "    count[card]+=1\n",
        "  else:\n",
        "    count[card]=1\n",
        "\n",
        "\n",
        "for target in candidate:\n",
        "  result=count.get(target)\n",
        "  if result == None:\n",
        "    print(0, end=' ')\n",
        "  else:\n",
        "    print(result, end=' ')"
      ],
      "metadata": {
        "colab": {
          "base_uri": "https://localhost:8080/"
        },
        "id": "f-eatYjcVGbH",
        "outputId": "4a1affeb-765c-4d38-e817-98f9f88fbbb7"
      },
      "execution_count": null,
      "outputs": [
        {
          "output_type": "stream",
          "name": "stdout",
          "text": [
            "{6: 1, 3: 2, 2: 1, 10: 3, -10: 2, 7: 1}\n",
            "3 0 0 1 2 0 0 2 "
          ]
        }
      ]
    },
    {
      "cell_type": "code",
      "source": [
        "not_listen=['ohhenrie','charlie','baesangwook']\n",
        "not_see=['obama','baesangwook','ohhenrie','clinton']\n",
        "n,m=map(int,input().split())\n",
        "not_listen=[]\n",
        "not_see=[]\n",
        "for i in range(n):\n",
        "  not_listen.append(input())\n",
        "for i in range(m):\n",
        "  not_see.append(input())\n",
        "ans=[]\n",
        "not_see={i for i in not_see}\n",
        "for j in not_listen:\n",
        "  if j in not_see:\n",
        "    ans.append(j)\n",
        "\n",
        "ans.sort()\n",
        "print(len(ans))\n",
        "for a in ans:\n",
        "  print(a)\n"
      ],
      "metadata": {
        "colab": {
          "base_uri": "https://localhost:8080/"
        },
        "id": "qBmVn1HiYVEk",
        "outputId": "f4714d95-228e-46f4-82da-cfd8ec0e62de"
      },
      "execution_count": null,
      "outputs": [
        {
          "output_type": "stream",
          "name": "stdout",
          "text": [
            "3 4\n",
            "ohhenrie\n",
            "a\n",
            "b\n",
            "A\n",
            "b\n",
            "c\n",
            "d\n",
            "1\n",
            "b\n"
          ]
        }
      ]
    },
    {
      "cell_type": "code",
      "source": [
        "S='ababc'\n",
        "S=input()\n",
        "ans=set()\n",
        "\n",
        "for i in range(0,len(S)):\n",
        "  for j in range(i,len(S)):\n",
        "    temp=S[i:j+1]\n",
        "    ans.add(temp)\n",
        "print(len(ans))"
      ],
      "metadata": {
        "colab": {
          "base_uri": "https://localhost:8080/"
        },
        "id": "hGpvG351c_1t",
        "outputId": "a0bc656b-21e5-48f1-8d7f-c6163ba9e322"
      },
      "execution_count": null,
      "outputs": [
        {
          "output_type": "stream",
          "name": "stdout",
          "text": [
            "a\n",
            "ab\n",
            "aba\n",
            "abab\n",
            "ababc\n",
            "b\n",
            "ba\n",
            "bab\n",
            "babc\n",
            "a\n",
            "ab\n",
            "abc\n",
            "b\n",
            "bc\n",
            "c\n",
            "12\n"
          ]
        }
      ]
    },
    {
      "cell_type": "code",
      "source": [
        "n,m=map(int,input().split())\n",
        "ans=0\n",
        "for i in range(n):\n",
        "  print(i+1)\n",
        "  for j in range(i,m):\n",
        "    print(j+1)"
      ],
      "metadata": {
        "colab": {
          "base_uri": "https://localhost:8080/"
        },
        "id": "9u4cmyBBjvG_",
        "outputId": "85588c50-26e1-42d9-f349-14e7ce4693d6"
      },
      "execution_count": null,
      "outputs": [
        {
          "output_type": "stream",
          "name": "stdout",
          "text": [
            "2 4\n",
            "1\n",
            "1\n",
            "2\n",
            "3\n",
            "4\n",
            "2\n",
            "2\n",
            "3\n",
            "4\n"
          ]
        }
      ]
    },
    {
      "cell_type": "code",
      "source": [
        "li=[[8,16],[32,4],[17,5]]\n",
        "li=[]\n",
        "while True:\n",
        "  factor=list(map(int,input().split()))\n",
        "  if factor==[0,0]:\n",
        "    break\n",
        "  li.append(factor)\n",
        "#print(li)\n",
        "\n",
        "def relation(i):\n",
        "  if i[0]%i[1]==0:\n",
        "    return('multiple')\n",
        "  elif i[1]%i[0]==0:\n",
        "    return('factor')\n",
        "  else:\n",
        "    return('neither')\n",
        "for i in li:\n",
        "  print(relation(i))"
      ],
      "metadata": {
        "colab": {
          "base_uri": "https://localhost:8080/"
        },
        "id": "M3IHqTxZh0CE",
        "outputId": "ac400517-0060-42c2-82d9-4830e94e61bc"
      },
      "execution_count": null,
      "outputs": [
        {
          "output_type": "stream",
          "name": "stdout",
          "text": [
            "8 16\n",
            "32 4\n",
            "17 5\n",
            "0 0\n",
            "[[8, 16], [32, 4], [17, 5]]\n",
            "8 16\n",
            "factor\n",
            "32 4\n",
            "multiple\n",
            "17 5\n",
            "neither\n"
          ]
        }
      ]
    },
    {
      "cell_type": "code",
      "source": [
        "a=int(input())\n",
        "li=list(map(int,input().split()))\n",
        "li.sort()\n",
        "\n",
        "print(li[0]*li[-1])"
      ],
      "metadata": {
        "colab": {
          "base_uri": "https://localhost:8080/"
        },
        "id": "0M7IDHmEk7yY",
        "outputId": "617751fb-1653-4e4b-9577-4db75df689bc"
      },
      "execution_count": null,
      "outputs": [
        {
          "output_type": "stream",
          "name": "stdout",
          "text": [
            "14 26456 2 28 13228 3307 7 23149 8 6614 46298 56 4 92596\n",
            "185192\n"
          ]
        }
      ]
    },
    {
      "cell_type": "code",
      "source": [
        "#최대공약수, 최소공배수\n",
        "#약수구하는 법?\n",
        "li=[24,18]\n",
        "#li=list(map(int,input().split()))\n",
        "\n",
        "ans=[]\n",
        "for i in range(1,max(li)):\n",
        "  if (li[0]%i==0) and (li[1]%i==0):\n",
        "    ans.append(i)\n",
        "gdp=ans[-1]\n",
        "#print(gdp)\n",
        "#print((li[0]*li[1])//(gdp))\n",
        "a,b=map(int,input().split())\n",
        "print(a)\n",
        "def gcd(a,b):\n",
        "  while b>0:\n",
        "     a,b=b, a%b \n",
        "    #print(a, b)\n",
        "  return a\n",
        "gcd(24,18)"
      ],
      "metadata": {
        "colab": {
          "base_uri": "https://localhost:8080/"
        },
        "id": "3EGgwtVgmqFm",
        "outputId": "2277ff57-0291-4649-d698-37579df76b49"
      },
      "execution_count": null,
      "outputs": [
        {
          "output_type": "stream",
          "name": "stdout",
          "text": [
            "24 18\n",
            "24\n"
          ]
        },
        {
          "output_type": "execute_result",
          "data": {
            "text/plain": [
              "6"
            ]
          },
          "metadata": {},
          "execution_count": 36
        }
      ]
    },
    {
      "cell_type": "code",
      "source": [
        "#n=3\n",
        "n=int(input())\n",
        "li=[]\n",
        "for i in range(n):\n",
        "  li.append(list(map(int,input().split())))\n",
        "#li=[[1,45000],[6,10],[13,17]]\n",
        "#print(li)\n",
        "\n",
        "def gcd(a,b):\n",
        "  while b>0:\n",
        "    a,b=b,a%b\n",
        "  return a\n",
        "\n",
        "final=1\n",
        "for i in li:\n",
        "  b=gcd(i[0],i[1])\n",
        "  final=(i[0]/b)*i[1]\n",
        "  print(int(final))"
      ],
      "metadata": {
        "colab": {
          "base_uri": "https://localhost:8080/"
        },
        "id": "Lko3OoqecODz",
        "outputId": "d70b6bc0-9d0c-41d0-c701-90266d6cc3bc"
      },
      "execution_count": null,
      "outputs": [
        {
          "output_type": "stream",
          "name": "stdout",
          "text": [
            "3\n",
            "1 45000\n",
            "6 10\n",
            "13 17\n",
            "[[1, 45000], [6, 10], [13, 17]]\n",
            "45000\n",
            "30\n",
            "221\n"
          ]
        }
      ]
    },
    {
      "cell_type": "code",
      "source": [
        "li=[8,4,2]\n",
        "def gcd(a,b):\n",
        "  while b>0:\n",
        "    a,b=b,a%b\n",
        "  return a\n",
        "\n",
        "first=li.pop(0)\n",
        "\n",
        "for i in li:\n",
        "  g=gcd(first,i)\n",
        "  print('{0}/{1}')"
      ],
      "metadata": {
        "colab": {
          "base_uri": "https://localhost:8080/",
          "height": 307
        },
        "id": "iN4ZPhSiglmZ",
        "outputId": "cd5705ec-b0f6-4eb5-bd1f-3222f7351c7f"
      },
      "execution_count": null,
      "outputs": [
        {
          "output_type": "error",
          "ename": "TypeError",
          "evalue": "ignored",
          "traceback": [
            "\u001b[0;31m---------------------------------------------------------------------------\u001b[0m",
            "\u001b[0;31mTypeError\u001b[0m                                 Traceback (most recent call last)",
            "\u001b[0;32m<ipython-input-22-a19b10996a91>\u001b[0m in \u001b[0;36m<module>\u001b[0;34m\u001b[0m\n\u001b[1;32m     19\u001b[0m \u001b[0;34m\u001b[0m\u001b[0m\n\u001b[1;32m     20\u001b[0m \u001b[0;32mfor\u001b[0m \u001b[0mi\u001b[0m \u001b[0;32min\u001b[0m \u001b[0mli\u001b[0m\u001b[0;34m:\u001b[0m\u001b[0;34m\u001b[0m\u001b[0;34m\u001b[0m\u001b[0m\n\u001b[0;32m---> 21\u001b[0;31m   \u001b[0mprint\u001b[0m\u001b[0;34m(\u001b[0m\u001b[0mreduceFraction\u001b[0m\u001b[0;34m(\u001b[0m\u001b[0mfirst\u001b[0m\u001b[0;34m,\u001b[0m\u001b[0mi\u001b[0m\u001b[0;34m)\u001b[0m\u001b[0;34m)\u001b[0m\u001b[0;34m\u001b[0m\u001b[0;34m\u001b[0m\u001b[0m\n\u001b[0m",
            "\u001b[0;32m<ipython-input-22-a19b10996a91>\u001b[0m in \u001b[0;36mreduceFraction\u001b[0;34m(bunja, bunmo)\u001b[0m\n\u001b[1;32m     16\u001b[0m   \u001b[0mfrac\u001b[0m\u001b[0;34m[\u001b[0m\u001b[0;36m0\u001b[0m\u001b[0;34m]\u001b[0m\u001b[0;34m=\u001b[0m\u001b[0mfrac\u001b[0m\u001b[0;34m[\u001b[0m\u001b[0;36m0\u001b[0m\u001b[0;34m]\u001b[0m\u001b[0;34m/\u001b[0m\u001b[0mgcd_result\u001b[0m\u001b[0;34m\u001b[0m\u001b[0;34m\u001b[0m\u001b[0m\n\u001b[1;32m     17\u001b[0m   \u001b[0mfrac\u001b[0m\u001b[0;34m[\u001b[0m\u001b[0;36m1\u001b[0m\u001b[0;34m]\u001b[0m\u001b[0;34m=\u001b[0m\u001b[0mfrac\u001b[0m\u001b[0;34m[\u001b[0m\u001b[0;36m1\u001b[0m\u001b[0;34m]\u001b[0m\u001b[0;34m/\u001b[0m\u001b[0mgcd_result\u001b[0m\u001b[0;34m\u001b[0m\u001b[0;34m\u001b[0m\u001b[0m\n\u001b[0;32m---> 18\u001b[0;31m   \u001b[0;32mreturn\u001b[0m \u001b[0;34m'/'\u001b[0m\u001b[0;34m.\u001b[0m\u001b[0mjoin\u001b[0m\u001b[0;34m(\u001b[0m\u001b[0;34m[\u001b[0m\u001b[0mint\u001b[0m\u001b[0;34m(\u001b[0m\u001b[0mfrac\u001b[0m\u001b[0;34m[\u001b[0m\u001b[0;36m0\u001b[0m\u001b[0;34m]\u001b[0m\u001b[0;34m)\u001b[0m\u001b[0;34m,\u001b[0m\u001b[0mint\u001b[0m\u001b[0;34m(\u001b[0m\u001b[0mfrac\u001b[0m\u001b[0;34m[\u001b[0m\u001b[0;36m1\u001b[0m\u001b[0;34m]\u001b[0m\u001b[0;34m)\u001b[0m\u001b[0;34m]\u001b[0m\u001b[0;34m)\u001b[0m\u001b[0;34m\u001b[0m\u001b[0;34m\u001b[0m\u001b[0m\n\u001b[0m\u001b[1;32m     19\u001b[0m \u001b[0;34m\u001b[0m\u001b[0m\n\u001b[1;32m     20\u001b[0m \u001b[0;32mfor\u001b[0m \u001b[0mi\u001b[0m \u001b[0;32min\u001b[0m \u001b[0mli\u001b[0m\u001b[0;34m:\u001b[0m\u001b[0;34m\u001b[0m\u001b[0;34m\u001b[0m\u001b[0m\n",
            "\u001b[0;31mTypeError\u001b[0m: sequence item 0: expected str instance, int found"
          ]
        }
      ]
    },
    {
      "cell_type": "code",
      "source": [
        "import argparse\n",
        "\n",
        "parser=argparse.ArgumentParser(description='test')\n",
        "parser.add_argument('--batch_size',type=int, default=64, help='What')\n",
        "\n",
        "args=parser.parse_args()\n",
        "print(args.target)"
      ],
      "metadata": {
        "colab": {
          "base_uri": "https://localhost:8080/",
          "height": 195
        },
        "id": "AJx8C4AejAgi",
        "outputId": "8b85018e-aa1d-4b25-e811-beea3faeb694"
      },
      "execution_count": null,
      "outputs": [
        {
          "output_type": "stream",
          "name": "stderr",
          "text": [
            "usage: ipykernel_launcher.py [-h] [--batch_size BATCH_SIZE]\n",
            "ipykernel_launcher.py: error: unrecognized arguments: -f /root/.local/share/jupyter/runtime/kernel-10d52763-4d7c-4610-a959-afc4796eeee1.json\n"
          ]
        },
        {
          "output_type": "error",
          "ename": "SystemExit",
          "evalue": "ignored",
          "traceback": [
            "An exception has occurred, use %tb to see the full traceback.\n",
            "\u001b[0;31mSystemExit\u001b[0m\u001b[0;31m:\u001b[0m 2\n"
          ]
        },
        {
          "output_type": "stream",
          "name": "stderr",
          "text": [
            "/usr/local/lib/python3.7/dist-packages/IPython/core/interactiveshell.py:3334: UserWarning: To exit: use 'exit', 'quit', or Ctrl-D.\n",
            "  warn(\"To exit: use 'exit', 'quit', or Ctrl-D.\", stacklevel=1)\n"
          ]
        }
      ]
    },
    {
      "cell_type": "code",
      "source": [
        "def factorial(n):\n",
        "  if (n>1):\n",
        "    return n*factorial(n-1)\n",
        "  return 1\n",
        "\n",
        "ex_change=reversed(list(str(factorial(int(input())))))\n",
        "\n",
        "\n",
        "for idx,n in enumerate(list(ex_change)):\n",
        "  if n!='0':\n",
        "    print(idx)\n",
        "    break"
      ],
      "metadata": {
        "colab": {
          "base_uri": "https://localhost:8080/"
        },
        "id": "QfXiiC_NeYM5",
        "outputId": "a10af0a1-8bf7-4168-ca21-af744882126b"
      },
      "execution_count": null,
      "outputs": [
        {
          "output_type": "stream",
          "name": "stdout",
          "text": [
            "10\n",
            "<list_reverseiterator object at 0x7fb5d3dd2910>\n",
            "3\n"
          ]
        }
      ]
    },
    {
      "cell_type": "code",
      "source": [
        "n=int(input())\n",
        "\n",
        "cnt=0\n",
        "while n>0:\n",
        "  cnt+=n//5\n",
        "  n//=5\n",
        "print(cnt)"
      ],
      "metadata": {
        "colab": {
          "base_uri": "https://localhost:8080/"
        },
        "id": "ZpSV3cTgpzCZ",
        "outputId": "206cba57-9833-4f46-a197-e87f1054ee88"
      },
      "execution_count": null,
      "outputs": [
        {
          "output_type": "stream",
          "name": "stdout",
          "text": [
            "10\n",
            "2\n"
          ]
        }
      ]
    },
    {
      "cell_type": "code",
      "source": [
        "string1='koder'\n",
        "string2='topcoder'\n",
        "\n",
        "def diff_count(seq1,seq2):\n",
        "  count=sum(1 for a,b in zip(seq1, seq2) if a!=b)\n",
        "  return count\n",
        "\n",
        "ans=[]\n",
        "for i in range(len(string2)-len(string1)+1):\n",
        "  compare=string2[i:len(string1)+i]\n",
        "  ans.append(diff_count(string1, compare))\n",
        "print(min(ans))"
      ],
      "metadata": {
        "id": "8h7tj306l77D",
        "colab": {
          "base_uri": "https://localhost:8080/"
        },
        "outputId": "bbcf20fc-1c06-46c8-e366-30e6479bffb1"
      },
      "execution_count": null,
      "outputs": [
        {
          "output_type": "stream",
          "name": "stdout",
          "text": [
            "1\n"
          ]
        }
      ]
    },
    {
      "cell_type": "code",
      "source": [
        "seq1='string'\n",
        "seq2='strong'\n",
        "\n",
        "count=sum(1 for a,b in zip(seq1,seq2) if a!=b)\n",
        "print(count)"
      ],
      "metadata": {
        "colab": {
          "base_uri": "https://localhost:8080/"
        },
        "id": "ju3kRbXQOAXw",
        "outputId": "fa5d805e-04a2-4592-dad7-8a22821247de"
      },
      "execution_count": null,
      "outputs": [
        {
          "output_type": "stream",
          "name": "stdout",
          "text": [
            "1\n"
          ]
        }
      ]
    }
  ]
}